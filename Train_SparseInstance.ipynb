{
  "nbformat": 4,
  "nbformat_minor": 0,
  "metadata": {
    "colab": {
      "name": "Train_SparseInstance.ipynb",
      "provenance": []
    },
    "kernelspec": {
      "name": "python3",
      "display_name": "Python 3"
    },
    "language_info": {
      "name": "python"
    }
  },
  "cells": [
    {
      "cell_type": "markdown",
      "source": [
        "### Install Detectron2"
      ],
      "metadata": {
        "id": "za9O8c76LHNJ"
      }
    },
    {
      "cell_type": "code",
      "source": [
        "!git clone https://github.com/facebookresearch/detectron2.git"
      ],
      "metadata": {
        "id": "vW7ZQT5e5wXU"
      },
      "execution_count": null,
      "outputs": []
    },
    {
      "cell_type": "code",
      "source": [
        "%cd detectron2"
      ],
      "metadata": {
        "colab": {
          "base_uri": "https://localhost:8080/"
        },
        "id": "_FSCtEj854um",
        "outputId": "fd1a22ac-353c-40b1-8b53-4892551cbfa9"
      },
      "execution_count": null,
      "outputs": [
        {
          "output_type": "stream",
          "name": "stdout",
          "text": [
            "/content/detectron2\n"
          ]
        }
      ]
    },
    {
      "cell_type": "code",
      "source": [
        "!python setup.py develop"
      ],
      "metadata": {
        "id": "HLwOPotG6ZEl"
      },
      "execution_count": null,
      "outputs": []
    },
    {
      "cell_type": "code",
      "source": [
        "%cd .."
      ],
      "metadata": {
        "id": "E_0h_l94MCJu"
      },
      "execution_count": null,
      "outputs": []
    },
    {
      "cell_type": "markdown",
      "source": [
        "### Requirements"
      ],
      "metadata": {
        "id": "0g2TXpEhL2kk"
      }
    },
    {
      "cell_type": "code",
      "source": [
        "!pip install --upgrade fvcore"
      ],
      "metadata": {
        "id": "tY-dYthPEBq9"
      },
      "execution_count": null,
      "outputs": []
    },
    {
      "cell_type": "code",
      "source": [
        "!pip install --upgrade iopath"
      ],
      "metadata": {
        "id": "Xo8afUW2EVyo"
      },
      "execution_count": null,
      "outputs": []
    },
    {
      "cell_type": "code",
      "source": [
        "!pip install --upgrade portalocker\n",
        "!pip install --upgrade yacs"
      ],
      "metadata": {
        "id": "xwDKKLeqEolu"
      },
      "execution_count": null,
      "outputs": []
    },
    {
      "cell_type": "code",
      "source": [
        "!pip install timm"
      ],
      "metadata": {
        "colab": {
          "base_uri": "https://localhost:8080/"
        },
        "id": "4mtgjQKrH-W5",
        "outputId": "fd4cb255-cea5-4fd5-bdb2-7e0ea7733ec4"
      },
      "execution_count": null,
      "outputs": [
        {
          "output_type": "stream",
          "name": "stdout",
          "text": [
            "Looking in indexes: https://pypi.org/simple, https://us-python.pkg.dev/colab-wheels/public/simple/\n",
            "Requirement already satisfied: timm in /usr/local/lib/python3.7/dist-packages/timm-0.6.7-py3.7.egg (0.6.7)\n",
            "Requirement already satisfied: torch>=1.4 in /usr/local/lib/python3.7/dist-packages (from timm) (1.9.0)\n",
            "Requirement already satisfied: torchvision in /usr/local/lib/python3.7/dist-packages (from timm) (0.10.0)\n",
            "Requirement already satisfied: typing-extensions in /usr/local/lib/python3.7/dist-packages (from torch>=1.4->timm) (4.1.1)\n",
            "Requirement already satisfied: numpy in /usr/local/lib/python3.7/dist-packages (from torchvision->timm) (1.21.6)\n",
            "Requirement already satisfied: pillow>=5.3.0 in /usr/local/lib/python3.7/dist-packages (from torchvision->timm) (7.1.2)\n"
          ]
        }
      ]
    },
    {
      "cell_type": "markdown",
      "source": [
        "### Clone https://github.com/hustvl/SparseInst"
      ],
      "metadata": {
        "id": "pP7LioXWLZbo"
      }
    },
    {
      "cell_type": "code",
      "source": [
        "!git clone https://github.com/hustvl/SparseInst.git"
      ],
      "metadata": {
        "id": "jlfherNMCAwS"
      },
      "execution_count": null,
      "outputs": []
    },
    {
      "cell_type": "code",
      "source": [
        "%cd /content/SparseInst"
      ],
      "metadata": {
        "id": "1dijeqeLB2YG"
      },
      "execution_count": null,
      "outputs": []
    },
    {
      "cell_type": "markdown",
      "source": [
        "### Custom Dataset"
      ],
      "metadata": {
        "id": "QGfFZCGlMxrM"
      }
    },
    {
      "cell_type": "code",
      "source": [
        "!mkdir dataset"
      ],
      "metadata": {
        "id": "l9zaLXJhXLY-"
      },
      "execution_count": null,
      "outputs": []
    },
    {
      "cell_type": "code",
      "source": [
        "%cd dataset"
      ],
      "metadata": {
        "colab": {
          "base_uri": "https://localhost:8080/"
        },
        "id": "EIKy0puhGGS2",
        "outputId": "3c4eefc2-61e7-413e-bf05-b5a73f934232"
      },
      "execution_count": null,
      "outputs": [
        {
          "output_type": "stream",
          "name": "stdout",
          "text": [
            "/content/SparseInst/dataset\n"
          ]
        }
      ]
    },
    {
      "cell_type": "markdown",
      "source": [
        "Put your dataset inside dataset folder\n",
        "\n",
        "    --Images\n",
        "          -- train\n",
        "          -- val\n",
        "          -- annotations\n",
        "                    -- annotation_val.json\n",
        "                    -- annotation_train.json"
      ],
      "metadata": {
        "id": "rwLNHshINsh1"
      }
    },
    {
      "cell_type": "markdown",
      "source": [
        "You need to register your dataset. Put this code inside tools/train_net.py \n",
        "\n",
        "```py\n",
        "from detectron2.data.datasets.coco import load_coco_json, register_coco_instances\n",
        "import os\n",
        "\n",
        "def register_custom_datasets():\n",
        "    DATASET_ROOT = \"/content/SparseInst/dataset\"\n",
        "    ANN_ROOT = \"/content/SparseInst/dataset/annotations\"\n",
        "    TRAIN_PATH = os.path.join(DATASET_ROOT, \"Images/train\")\n",
        "    VAL_PATH = os.path.join(DATASET_ROOT, \"Images/test\")\n",
        "    TRAIN_JSON = os.path.join(ANN_ROOT, \"annotation_train.json\")\n",
        "    VAL_JSON = os.path.join(ANN_ROOT, \"annotation_val.json\")\n",
        "    register_coco_instances(\"custom_train\", {}, TRAIN_JSON, TRAIN_PATH)\n",
        "    register_coco_instances(\"custom_val\", {}, VAL_JSON, VAL_PATH)\n",
        "\n",
        "register_custom_datasets()\n",
        "```"
      ],
      "metadata": {
        "id": "9QTFlKuOPB0l"
      }
    },
    {
      "cell_type": "markdown",
      "source": [
        "```\n",
        "Edit DATASET section inside Base-SparseInst.yaml\n",
        "\n",
        "DATASETS:\n",
        "  TRAIN: (\"annotation_train.json\",)\n",
        "  TEST:  (\"annotation_val.json\",)\n",
        "```\n"
      ],
      "metadata": {
        "id": "awD45wM5PyAc"
      }
    },
    {
      "cell_type": "markdown",
      "source": [
        "Edit ``` /content/drive/MyDrive/SparseInst/sparseinst/config.py ``` for your custom dataset"
      ],
      "metadata": {
        "id": "MYVY4G0YQG1e"
      }
    },
    {
      "cell_type": "code",
      "source": [
        "%cd .."
      ],
      "metadata": {
        "id": "Gk4J5GCLM1uc"
      },
      "execution_count": null,
      "outputs": []
    },
    {
      "cell_type": "markdown",
      "source": [
        "### Pre-trained weights"
      ],
      "metadata": {
        "id": "CDaohZpJQjNd"
      }
    },
    {
      "cell_type": "markdown",
      "source": [
        "```You can find pre-trained weights at the original repo. Just download the weight and edit your config file.```"
      ],
      "metadata": {
        "id": "QeO2wPo7Qq7F"
      }
    },
    {
      "cell_type": "code",
      "source": [
        "!mkdir pretrained_models\n",
        "%cd pretrained_models/"
      ],
      "metadata": {
        "colab": {
          "base_uri": "https://localhost:8080/"
        },
        "id": "mVohLG2bIoOn",
        "outputId": "4470d841-a707-45b7-d2c0-9e3bb8e89745"
      },
      "execution_count": null,
      "outputs": [
        {
          "output_type": "stream",
          "name": "stdout",
          "text": [
            "/content/SparseInst/pretrained_models\n"
          ]
        }
      ]
    },
    {
      "cell_type": "code",
      "source": [
        "!wget https://dl.fbaipublicfiles.com/detectron2/ImageNetPretrained/MSRA/R-50.pkl"
      ],
      "metadata": {
        "colab": {
          "base_uri": "https://localhost:8080/"
        },
        "id": "dQTir1suJTNY",
        "outputId": "9b75775c-735d-4874-fc20-f061d141facf"
      },
      "execution_count": null,
      "outputs": [
        {
          "output_type": "stream",
          "name": "stdout",
          "text": [
            "--2022-08-08 14:16:12--  https://dl.fbaipublicfiles.com/detectron2/ImageNetPretrained/MSRA/R-50.pkl\n",
            "Resolving dl.fbaipublicfiles.com (dl.fbaipublicfiles.com)... 104.22.74.142, 172.67.9.4, 104.22.75.142, ...\n",
            "Connecting to dl.fbaipublicfiles.com (dl.fbaipublicfiles.com)|104.22.74.142|:443... connected.\n",
            "HTTP request sent, awaiting response... 200 OK\n",
            "Length: 102465407 (98M) [application/octet-stream]\n",
            "Saving to: ‘R-50.pkl’\n",
            "\n",
            "R-50.pkl            100%[===================>]  97.72M  11.9MB/s    in 8.7s    \n",
            "\n",
            "2022-08-08 14:16:22 (11.3 MB/s) - ‘R-50.pkl’ saved [102465407/102465407]\n",
            "\n"
          ]
        }
      ]
    },
    {
      "cell_type": "code",
      "source": [
        "%cd .."
      ],
      "metadata": {
        "id": "YDpyHR9GQpNs"
      },
      "execution_count": null,
      "outputs": []
    },
    {
      "cell_type": "markdown",
      "source": [
        "### TRAIN, TEST"
      ],
      "metadata": {
        "id": "_5dEWTM1RBr0"
      }
    },
    {
      "cell_type": "code",
      "source": [
        "!python tools/train_net.py --config-file /content/drive/MyDrive/SparseInst/output/sparse_inst_r50_giam/config.yaml --num-gpus 1 --resume"
      ],
      "metadata": {
        "id": "_J_fBI23RBI2"
      },
      "execution_count": null,
      "outputs": []
    },
    {
      "cell_type": "code",
      "source": [
        "!python demo.py --config-file /content/SparseInst/configs/sparse_inst_r50_base.yaml --input \"Image path\" --output results --opt MODEL.WEIGHTS   \"Model weights path\""
      ],
      "metadata": {
        "id": "a32oX75DdWb7"
      },
      "execution_count": null,
      "outputs": []
    },
    {
      "cell_type": "code",
      "source": [
        "!python test_net.py --config-file configs/sparse_inst_r50_base.yaml MODEL.WEIGHTS /content/SparseInst/output/sparse_inst_r50_base/model_final.pth"
      ],
      "metadata": {
        "id": "3vJsyQaCb53C"
      },
      "execution_count": null,
      "outputs": []
    }
  ]
}
